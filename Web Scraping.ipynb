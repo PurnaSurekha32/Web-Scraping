{
 "cells": [
  {
   "cell_type": "markdown",
   "id": "e565b5be",
   "metadata": {},
   "source": [
    "# Steps in Web Scraping"
   ]
  },
  {
   "cell_type": "markdown",
   "id": "57a890cb",
   "metadata": {},
   "source": [
    "We use requests package to connect to the desired web page\n",
    "\n",
    "We will use beautiful soup library to pass the data from the web page and store them in list or dict\n",
    "\n",
    "Analysing the html tags form our specific fields\n",
    "\n",
    "Store the data in csv or xlsx files"
   ]
  },
  {
   "cell_type": "markdown",
   "id": "48481ee9",
   "metadata": {},
   "source": [
    "# HTTP response status codes"
   ]
  },
  {
   "cell_type": "markdown",
   "id": "cb8ebb9a",
   "metadata": {},
   "source": [
    "HTTP response status codes indicate whether a specific HTTP request has bee successfully completed.\n",
    "Response are grouped in five classes:\n",
    "\n",
    "1. informational responses(100-199)\n",
    "2. Successful responses(200-299)\n",
    "3. Redirection messages(300-399)\n",
    "4. Client error responses(400-499)\n",
    "5. Server error responses(500-599)"
   ]
  },
  {
   "cell_type": "code",
   "execution_count": 1,
   "id": "bb84b5ec",
   "metadata": {},
   "outputs": [],
   "source": [
    "#pip install requests"
   ]
  },
  {
   "cell_type": "code",
   "execution_count": 2,
   "id": "6cd55ede",
   "metadata": {},
   "outputs": [],
   "source": [
    "#pip install bs4 "
   ]
  },
  {
   "cell_type": "code",
   "execution_count": 3,
   "id": "5e25d935",
   "metadata": {},
   "outputs": [],
   "source": [
    "import requests"
   ]
  },
  {
   "cell_type": "code",
   "execution_count": 4,
   "id": "998102cd",
   "metadata": {},
   "outputs": [],
   "source": [
    "import bs4"
   ]
  },
  {
   "cell_type": "code",
   "execution_count": 5,
   "id": "48cbc3aa",
   "metadata": {},
   "outputs": [],
   "source": [
    "url=\"https://www.makaan.com/hyderabad-residential-property/buy-property-in-hyderabad-city\""
   ]
  },
  {
   "cell_type": "code",
   "execution_count": 6,
   "id": "403ab2d7",
   "metadata": {},
   "outputs": [
    {
     "data": {
      "text/plain": [
       "<Response [200]>"
      ]
     },
     "execution_count": 6,
     "metadata": {},
     "output_type": "execute_result"
    }
   ],
   "source": [
    "data=requests.get(url)\n",
    "data"
   ]
  },
  {
   "cell_type": "code",
   "execution_count": 7,
   "id": "8d34b3d7",
   "metadata": {},
   "outputs": [
    {
     "data": {
      "text/plain": [
       "str"
      ]
     },
     "execution_count": 7,
     "metadata": {},
     "output_type": "execute_result"
    }
   ],
   "source": [
    "type(data.text)"
   ]
  },
  {
   "cell_type": "code",
   "execution_count": 8,
   "id": "6a0ecd80",
   "metadata": {},
   "outputs": [],
   "source": [
    "from bs4 import BeautifulSoup"
   ]
  },
  {
   "cell_type": "code",
   "execution_count": 9,
   "id": "5fe22e3a",
   "metadata": {},
   "outputs": [],
   "source": [
    "soup=BeautifulSoup(data.text,\"html\")"
   ]
  },
  {
   "cell_type": "markdown",
   "id": "8ffdcc3a",
   "metadata": {},
   "source": [
    "# Print Information Line by Line"
   ]
  },
  {
   "cell_type": "code",
   "execution_count": 10,
   "id": "977148a0",
   "metadata": {},
   "outputs": [
    {
     "data": {
      "text/plain": [
       "'3 BHK Apartment in Kalyan Skyway 9'"
      ]
     },
     "execution_count": 10,
     "metadata": {},
     "output_type": "execute_result"
    }
   ],
   "source": [
    "soup.find('div',attrs={\"class\":\"title-line\"}).text #tag is div so give that in str and attrs(attribute)convert in to dict."
   ]
  },
  {
   "cell_type": "code",
   "execution_count": 11,
   "id": "8b0d37ee",
   "metadata": {},
   "outputs": [
    {
     "data": {
      "text/plain": [
       "'Manchirevula'"
      ]
     },
     "execution_count": 11,
     "metadata": {},
     "output_type": "execute_result"
    }
   ],
   "source": [
    "soup.find('span',attrs={\"itemprop\":\"addressLocality\"}).text"
   ]
  },
  {
   "cell_type": "code",
   "execution_count": 12,
   "id": "76a3ef93",
   "metadata": {},
   "outputs": [
    {
     "data": {
      "text/plain": [
       "' 1.46 Cr'"
      ]
     },
     "execution_count": 12,
     "metadata": {},
     "output_type": "execute_result"
    }
   ],
   "source": [
    "soup.find('div',attrs={\"data-type\":\"price-link\"}).text"
   ]
  },
  {
   "cell_type": "code",
   "execution_count": 13,
   "id": "071ca4f8",
   "metadata": {},
   "outputs": [
    {
     "data": {
      "text/plain": [
       "'6,800 / sq ft'"
      ]
     },
     "execution_count": 13,
     "metadata": {},
     "output_type": "execute_result"
    }
   ],
   "source": [
    "soup.find('td',attrs={\"class\":\"lbl rate\"}).text"
   ]
  },
  {
   "cell_type": "code",
   "execution_count": 14,
   "id": "af37205e",
   "metadata": {},
   "outputs": [
    {
     "data": {
      "text/plain": [
       "'2150 '"
      ]
     },
     "execution_count": 14,
     "metadata": {},
     "output_type": "execute_result"
    }
   ],
   "source": [
    "soup.find('td',attrs={\"class\":\"size\"}).text"
   ]
  },
  {
   "cell_type": "code",
   "execution_count": 15,
   "id": "1a3df1d6",
   "metadata": {},
   "outputs": [
    {
     "data": {
      "text/plain": [
       "'Ready to move'"
      ]
     },
     "execution_count": 15,
     "metadata": {},
     "output_type": "execute_result"
    }
   ],
   "source": [
    "soup.find('td',attrs={\"class\":\"val\"}).text"
   ]
  },
  {
   "cell_type": "markdown",
   "id": "ce5cb9af",
   "metadata": {},
   "source": [
    "# Print the information at a time"
   ]
  },
  {
   "cell_type": "code",
   "execution_count": 16,
   "id": "6d7cd009",
   "metadata": {},
   "outputs": [],
   "source": [
    "prop=soup.find_all('div',attrs={\"class\":\"title-line\"})"
   ]
  },
  {
   "cell_type": "code",
   "execution_count": 17,
   "id": "2acd3c42",
   "metadata": {},
   "outputs": [],
   "source": [
    "prop_name=[]\n",
    "for i in prop:\n",
    "    prop_name.append(i.text)"
   ]
  },
  {
   "cell_type": "code",
   "execution_count": 18,
   "id": "773201fb",
   "metadata": {},
   "outputs": [
    {
     "name": "stdout",
     "output_type": "stream",
     "text": [
      "['3 BHK Apartment in Kalyan Skyway 9', '2 BHK Apartment in MKT Urban Tree', '2 BHK Apartment in Sumadhura Gardens By The Brook', '2 BHK Apartment in Maram Mihira', '3 BHK Apartment in Gk Zenith', '3 BHK Apartment in Anuhar Gautami Heights', '3 BHK Apartment in Vasavi Nandanam', '3 BHK Apartment in Divine Space', '2 BHK Apartment in Vasavi Construction Metropolis', '4 BHK Villa in Cloudswood RADHEY RAAGA', '3 BHK Apartment in Vision Visions Arsha', '4 BHK Apartment in RAGHURAM PRADEEP CONSTRUCTIONS The Vue Residences', '2 BHK Apartment in Akruthi Srivatsa', '3 BHK Apartment in Pranathi Kiara', '2 BHK Apartment in Janapriya Nile Valley', '4 BHK Apartment in Trishala Trilok', '3 BHK Apartment in Aakriti Cyan', '3 BHK Apartment in ARR Avencia', '3 BHK Apartment in Makuta Projects My Space 2', '3 BHK Apartment in Adhireddy Pavan Kumar Reddy Cozy Essence Elite']\n",
      "Length :  20\n"
     ]
    }
   ],
   "source": [
    "Apartment=[i.text for i in prop]\n",
    "print(Apartment)\n",
    "print(\"Length : \",len(Apartment))"
   ]
  },
  {
   "cell_type": "code",
   "execution_count": 19,
   "id": "ea66b253",
   "metadata": {},
   "outputs": [
    {
     "name": "stdout",
     "output_type": "stream",
     "text": [
      "['Manchirevula', 'Isnapur', 'Shamshabad', 'Pocharam', 'Yapral', 'Miyapur', 'Jeedimetla', 'Tellapur', 'Uppal Kalan', 'Patighanpur', 'Tellapur', 'Puppalaguda', 'Mallampet', 'Tellapur', 'Madeenaguda', 'Shamshabad', 'Tellapur', 'Bachupally', 'Bachupally', 'Kompally']\n",
      "Length :  20\n"
     ]
    }
   ],
   "source": [
    "b=soup.find_all('span',attrs={\"itemprop\":\"addressLocality\"})\n",
    "Location=[i.text for i in b]\n",
    "print(Location)\n",
    "print(\"Length : \",len(b))"
   ]
  },
  {
   "cell_type": "code",
   "execution_count": 20,
   "id": "f75fe6a4",
   "metadata": {},
   "outputs": [
    {
     "name": "stdout",
     "output_type": "stream",
     "text": [
      "[' 1.46 Cr', ' 48.04 L', ' 1.27 Cr', ' 62.93 L', ' 1.04 Cr', ' 1.37 Cr', ' 1.22 Cr', ' 1.04 Cr', ' 67.08 L', ' 6.89 Cr', ' 1.45 Cr', ' 4.04 Cr', ' 61 L', ' 1.23 Cr', ' 63.36 L', ' 2.69 Cr', ' 1.17 Cr', ' 93 L', ' 1.26 Cr', ' 90.22 L']\n",
      "Length :  20\n"
     ]
    }
   ],
   "source": [
    "c=soup.find_all('div',attrs={\"data-type\":\"price-link\"})\n",
    "Price=[i.text for i in c]\n",
    "print(Price)\n",
    "print(\"Length : \",len(c))"
   ]
  },
  {
   "cell_type": "code",
   "execution_count": 21,
   "id": "3e86898b",
   "metadata": {},
   "outputs": [
    {
     "name": "stdout",
     "output_type": "stream",
     "text": [
      "['6,800 / sq ft', '4,200 / sq ft', '8,022 / sq ft', '5,055 / sq ft', '6,000 / sq ft', '7,000 / sq ft', '6,073 / sq ft', '6,899 / sq ft', '6,304 / sq ft', '14,999 / sq ft', '7,299 / sq ft', '10,891 / sq ft', '5,000 / sq ft', '6,299 / sq ft', '6,400 / sq ft', '6,500 / sq ft', '6,499 / sq ft', '6,000 / sq ft', '6,502 / sq ft', '4,500 / sq ft']\n",
      "Length:  20\n"
     ]
    }
   ],
   "source": [
    "d=soup.find_all('td',attrs={\"class\":\"lbl rate\"})\n",
    "Sqrt=[i.text for i in d]\n",
    "print(Sqrt)\n",
    "print(\"Length: \",len(d))"
   ]
  },
  {
   "cell_type": "code",
   "execution_count": 22,
   "id": "857eae78",
   "metadata": {},
   "outputs": [
    {
     "name": "stdout",
     "output_type": "stream",
     "text": [
      "['2150 ', '1144 ', '1590 ', '1245 ', '1735 ', '1968 ', '2010 ', '1510 ', '1065 ', '4596 ', '2000 ', '3715 ', '1220 ', '1965 ', '990 ', '4150 ', '1813 ', '1550 ', '1946 ', '2005 ']\n",
      "Lenght :  20\n"
     ]
    }
   ],
   "source": [
    "e=soup.find_all('td',attrs={\"class\":\"size\"})\n",
    "Areasqrt=[i.text for i in e]\n",
    "print(Areasqrt)\n",
    "print(\"Lenght : \",len(e))"
   ]
  },
  {
   "cell_type": "code",
   "execution_count": 23,
   "id": "0f211427",
   "metadata": {},
   "outputs": [
    {
     "name": "stdout",
     "output_type": "stream",
     "text": [
      "['Ready to move', 'Ready to move', 'Under Construction', 'Under Construction', 'Ready to move', 'Under Construction', 'Under Construction', 'Under Construction', 'Under Construction', 'Under Construction', 'Under Construction', 'Under Construction', 'Under Construction', 'Under Construction', 'Under Construction', 'Under Construction', 'Under Construction', 'Ready to move', 'Under Construction', 'Ready to move']\n",
      "Lenght :  20\n"
     ]
    }
   ],
   "source": [
    "f=soup.find_all('td',attrs={\"class\":\"val\"})\n",
    "Status=[i.text for i in f]\n",
    "print(Status)\n",
    "print(\"Lenght : \",len(f))"
   ]
  },
  {
   "cell_type": "code",
   "execution_count": 24,
   "id": "a4f9c954",
   "metadata": {},
   "outputs": [],
   "source": [
    "import pandas as pd"
   ]
  },
  {
   "cell_type": "code",
   "execution_count": 25,
   "id": "6c7ba323",
   "metadata": {},
   "outputs": [
    {
     "data": {
      "text/html": [
       "<div>\n",
       "<style scoped>\n",
       "    .dataframe tbody tr th:only-of-type {\n",
       "        vertical-align: middle;\n",
       "    }\n",
       "\n",
       "    .dataframe tbody tr th {\n",
       "        vertical-align: top;\n",
       "    }\n",
       "\n",
       "    .dataframe thead th {\n",
       "        text-align: right;\n",
       "    }\n",
       "</style>\n",
       "<table border=\"1\" class=\"dataframe\">\n",
       "  <thead>\n",
       "    <tr style=\"text-align: right;\">\n",
       "      <th></th>\n",
       "      <th>Apartment</th>\n",
       "      <th>Location</th>\n",
       "      <th>Price</th>\n",
       "      <th>Sqrt</th>\n",
       "      <th>Areasqrt</th>\n",
       "      <th>Status</th>\n",
       "    </tr>\n",
       "  </thead>\n",
       "  <tbody>\n",
       "    <tr>\n",
       "      <th>0</th>\n",
       "      <td>3 BHK Apartment in Kalyan Skyway 9</td>\n",
       "      <td>Manchirevula</td>\n",
       "      <td>1.46 Cr</td>\n",
       "      <td>6,800 / sq ft</td>\n",
       "      <td>2150</td>\n",
       "      <td>Ready to move</td>\n",
       "    </tr>\n",
       "    <tr>\n",
       "      <th>1</th>\n",
       "      <td>2 BHK Apartment in MKT Urban Tree</td>\n",
       "      <td>Isnapur</td>\n",
       "      <td>48.04 L</td>\n",
       "      <td>4,200 / sq ft</td>\n",
       "      <td>1144</td>\n",
       "      <td>Ready to move</td>\n",
       "    </tr>\n",
       "    <tr>\n",
       "      <th>2</th>\n",
       "      <td>2 BHK Apartment in Sumadhura Gardens By The Brook</td>\n",
       "      <td>Shamshabad</td>\n",
       "      <td>1.27 Cr</td>\n",
       "      <td>8,022 / sq ft</td>\n",
       "      <td>1590</td>\n",
       "      <td>Under Construction</td>\n",
       "    </tr>\n",
       "    <tr>\n",
       "      <th>3</th>\n",
       "      <td>2 BHK Apartment in Maram Mihira</td>\n",
       "      <td>Pocharam</td>\n",
       "      <td>62.93 L</td>\n",
       "      <td>5,055 / sq ft</td>\n",
       "      <td>1245</td>\n",
       "      <td>Under Construction</td>\n",
       "    </tr>\n",
       "    <tr>\n",
       "      <th>4</th>\n",
       "      <td>3 BHK Apartment in Gk Zenith</td>\n",
       "      <td>Yapral</td>\n",
       "      <td>1.04 Cr</td>\n",
       "      <td>6,000 / sq ft</td>\n",
       "      <td>1735</td>\n",
       "      <td>Ready to move</td>\n",
       "    </tr>\n",
       "    <tr>\n",
       "      <th>5</th>\n",
       "      <td>3 BHK Apartment in Anuhar Gautami Heights</td>\n",
       "      <td>Miyapur</td>\n",
       "      <td>1.37 Cr</td>\n",
       "      <td>7,000 / sq ft</td>\n",
       "      <td>1968</td>\n",
       "      <td>Under Construction</td>\n",
       "    </tr>\n",
       "    <tr>\n",
       "      <th>6</th>\n",
       "      <td>3 BHK Apartment in Vasavi Nandanam</td>\n",
       "      <td>Jeedimetla</td>\n",
       "      <td>1.22 Cr</td>\n",
       "      <td>6,073 / sq ft</td>\n",
       "      <td>2010</td>\n",
       "      <td>Under Construction</td>\n",
       "    </tr>\n",
       "    <tr>\n",
       "      <th>7</th>\n",
       "      <td>3 BHK Apartment in Divine Space</td>\n",
       "      <td>Tellapur</td>\n",
       "      <td>1.04 Cr</td>\n",
       "      <td>6,899 / sq ft</td>\n",
       "      <td>1510</td>\n",
       "      <td>Under Construction</td>\n",
       "    </tr>\n",
       "    <tr>\n",
       "      <th>8</th>\n",
       "      <td>2 BHK Apartment in Vasavi Construction Metropolis</td>\n",
       "      <td>Uppal Kalan</td>\n",
       "      <td>67.08 L</td>\n",
       "      <td>6,304 / sq ft</td>\n",
       "      <td>1065</td>\n",
       "      <td>Under Construction</td>\n",
       "    </tr>\n",
       "    <tr>\n",
       "      <th>9</th>\n",
       "      <td>4 BHK Villa in Cloudswood RADHEY RAAGA</td>\n",
       "      <td>Patighanpur</td>\n",
       "      <td>6.89 Cr</td>\n",
       "      <td>14,999 / sq ft</td>\n",
       "      <td>4596</td>\n",
       "      <td>Under Construction</td>\n",
       "    </tr>\n",
       "    <tr>\n",
       "      <th>10</th>\n",
       "      <td>3 BHK Apartment in Vision Visions Arsha</td>\n",
       "      <td>Tellapur</td>\n",
       "      <td>1.45 Cr</td>\n",
       "      <td>7,299 / sq ft</td>\n",
       "      <td>2000</td>\n",
       "      <td>Under Construction</td>\n",
       "    </tr>\n",
       "    <tr>\n",
       "      <th>11</th>\n",
       "      <td>4 BHK Apartment in RAGHURAM PRADEEP CONSTRUCTI...</td>\n",
       "      <td>Puppalaguda</td>\n",
       "      <td>4.04 Cr</td>\n",
       "      <td>10,891 / sq ft</td>\n",
       "      <td>3715</td>\n",
       "      <td>Under Construction</td>\n",
       "    </tr>\n",
       "    <tr>\n",
       "      <th>12</th>\n",
       "      <td>2 BHK Apartment in Akruthi Srivatsa</td>\n",
       "      <td>Mallampet</td>\n",
       "      <td>61 L</td>\n",
       "      <td>5,000 / sq ft</td>\n",
       "      <td>1220</td>\n",
       "      <td>Under Construction</td>\n",
       "    </tr>\n",
       "    <tr>\n",
       "      <th>13</th>\n",
       "      <td>3 BHK Apartment in Pranathi Kiara</td>\n",
       "      <td>Tellapur</td>\n",
       "      <td>1.23 Cr</td>\n",
       "      <td>6,299 / sq ft</td>\n",
       "      <td>1965</td>\n",
       "      <td>Under Construction</td>\n",
       "    </tr>\n",
       "    <tr>\n",
       "      <th>14</th>\n",
       "      <td>2 BHK Apartment in Janapriya Nile Valley</td>\n",
       "      <td>Madeenaguda</td>\n",
       "      <td>63.36 L</td>\n",
       "      <td>6,400 / sq ft</td>\n",
       "      <td>990</td>\n",
       "      <td>Under Construction</td>\n",
       "    </tr>\n",
       "    <tr>\n",
       "      <th>15</th>\n",
       "      <td>4 BHK Apartment in Trishala Trilok</td>\n",
       "      <td>Shamshabad</td>\n",
       "      <td>2.69 Cr</td>\n",
       "      <td>6,500 / sq ft</td>\n",
       "      <td>4150</td>\n",
       "      <td>Under Construction</td>\n",
       "    </tr>\n",
       "    <tr>\n",
       "      <th>16</th>\n",
       "      <td>3 BHK Apartment in Aakriti Cyan</td>\n",
       "      <td>Tellapur</td>\n",
       "      <td>1.17 Cr</td>\n",
       "      <td>6,499 / sq ft</td>\n",
       "      <td>1813</td>\n",
       "      <td>Under Construction</td>\n",
       "    </tr>\n",
       "    <tr>\n",
       "      <th>17</th>\n",
       "      <td>3 BHK Apartment in ARR Avencia</td>\n",
       "      <td>Bachupally</td>\n",
       "      <td>93 L</td>\n",
       "      <td>6,000 / sq ft</td>\n",
       "      <td>1550</td>\n",
       "      <td>Ready to move</td>\n",
       "    </tr>\n",
       "    <tr>\n",
       "      <th>18</th>\n",
       "      <td>3 BHK Apartment in Makuta Projects My Space 2</td>\n",
       "      <td>Bachupally</td>\n",
       "      <td>1.26 Cr</td>\n",
       "      <td>6,502 / sq ft</td>\n",
       "      <td>1946</td>\n",
       "      <td>Under Construction</td>\n",
       "    </tr>\n",
       "    <tr>\n",
       "      <th>19</th>\n",
       "      <td>3 BHK Apartment in Adhireddy Pavan Kumar Reddy...</td>\n",
       "      <td>Kompally</td>\n",
       "      <td>90.22 L</td>\n",
       "      <td>4,500 / sq ft</td>\n",
       "      <td>2005</td>\n",
       "      <td>Ready to move</td>\n",
       "    </tr>\n",
       "  </tbody>\n",
       "</table>\n",
       "</div>"
      ],
      "text/plain": [
       "                                            Apartment      Location     Price  \\\n",
       "0                  3 BHK Apartment in Kalyan Skyway 9  Manchirevula   1.46 Cr   \n",
       "1                   2 BHK Apartment in MKT Urban Tree       Isnapur   48.04 L   \n",
       "2   2 BHK Apartment in Sumadhura Gardens By The Brook    Shamshabad   1.27 Cr   \n",
       "3                     2 BHK Apartment in Maram Mihira      Pocharam   62.93 L   \n",
       "4                        3 BHK Apartment in Gk Zenith        Yapral   1.04 Cr   \n",
       "5           3 BHK Apartment in Anuhar Gautami Heights       Miyapur   1.37 Cr   \n",
       "6                  3 BHK Apartment in Vasavi Nandanam    Jeedimetla   1.22 Cr   \n",
       "7                     3 BHK Apartment in Divine Space      Tellapur   1.04 Cr   \n",
       "8   2 BHK Apartment in Vasavi Construction Metropolis   Uppal Kalan   67.08 L   \n",
       "9              4 BHK Villa in Cloudswood RADHEY RAAGA   Patighanpur   6.89 Cr   \n",
       "10            3 BHK Apartment in Vision Visions Arsha      Tellapur   1.45 Cr   \n",
       "11  4 BHK Apartment in RAGHURAM PRADEEP CONSTRUCTI...   Puppalaguda   4.04 Cr   \n",
       "12                2 BHK Apartment in Akruthi Srivatsa     Mallampet      61 L   \n",
       "13                  3 BHK Apartment in Pranathi Kiara      Tellapur   1.23 Cr   \n",
       "14           2 BHK Apartment in Janapriya Nile Valley   Madeenaguda   63.36 L   \n",
       "15                 4 BHK Apartment in Trishala Trilok    Shamshabad   2.69 Cr   \n",
       "16                    3 BHK Apartment in Aakriti Cyan      Tellapur   1.17 Cr   \n",
       "17                     3 BHK Apartment in ARR Avencia    Bachupally      93 L   \n",
       "18      3 BHK Apartment in Makuta Projects My Space 2    Bachupally   1.26 Cr   \n",
       "19  3 BHK Apartment in Adhireddy Pavan Kumar Reddy...      Kompally   90.22 L   \n",
       "\n",
       "              Sqrt Areasqrt              Status  \n",
       "0    6,800 / sq ft    2150        Ready to move  \n",
       "1    4,200 / sq ft    1144        Ready to move  \n",
       "2    8,022 / sq ft    1590   Under Construction  \n",
       "3    5,055 / sq ft    1245   Under Construction  \n",
       "4    6,000 / sq ft    1735        Ready to move  \n",
       "5    7,000 / sq ft    1968   Under Construction  \n",
       "6    6,073 / sq ft    2010   Under Construction  \n",
       "7    6,899 / sq ft    1510   Under Construction  \n",
       "8    6,304 / sq ft    1065   Under Construction  \n",
       "9   14,999 / sq ft    4596   Under Construction  \n",
       "10   7,299 / sq ft    2000   Under Construction  \n",
       "11  10,891 / sq ft    3715   Under Construction  \n",
       "12   5,000 / sq ft    1220   Under Construction  \n",
       "13   6,299 / sq ft    1965   Under Construction  \n",
       "14   6,400 / sq ft     990   Under Construction  \n",
       "15   6,500 / sq ft    4150   Under Construction  \n",
       "16   6,499 / sq ft    1813   Under Construction  \n",
       "17   6,000 / sq ft    1550        Ready to move  \n",
       "18   6,502 / sq ft    1946   Under Construction  \n",
       "19   4,500 / sq ft    2005        Ready to move  "
      ]
     },
     "execution_count": 25,
     "metadata": {},
     "output_type": "execute_result"
    }
   ],
   "source": [
    "data=pd.DataFrame({'Apartment':Apartment,'Location':Location,'Price':Price,'Sqrt':Sqrt,'Areasqrt':Areasqrt,'Status':Status})\n",
    "data"
   ]
  },
  {
   "cell_type": "markdown",
   "id": "e1abe071",
   "metadata": {},
   "source": [
    "# Store the scraped data as csv or xlsx files"
   ]
  },
  {
   "cell_type": "code",
   "execution_count": 26,
   "id": "4e532d83",
   "metadata": {},
   "outputs": [],
   "source": [
    "data.to_csv(\"Hyd_apartments.csv\")"
   ]
  },
  {
   "cell_type": "markdown",
   "id": "7f86fdf7",
   "metadata": {},
   "source": [
    "# Create links"
   ]
  },
  {
   "cell_type": "code",
   "execution_count": 27,
   "id": "cc0958ca",
   "metadata": {},
   "outputs": [
    {
     "name": "stdout",
     "output_type": "stream",
     "text": [
      "https://www.makaan.com/hyderabad-residential-property/buy-property-in-hyderabad-city?page=0\n",
      "https://www.makaan.com/hyderabad-residential-property/buy-property-in-hyderabad-city?page=1\n",
      "https://www.makaan.com/hyderabad-residential-property/buy-property-in-hyderabad-city?page=2\n",
      "https://www.makaan.com/hyderabad-residential-property/buy-property-in-hyderabad-city?page=3\n",
      "https://www.makaan.com/hyderabad-residential-property/buy-property-in-hyderabad-city?page=4\n",
      "https://www.makaan.com/hyderabad-residential-property/buy-property-in-hyderabad-city?page=5\n",
      "https://www.makaan.com/hyderabad-residential-property/buy-property-in-hyderabad-city?page=6\n",
      "https://www.makaan.com/hyderabad-residential-property/buy-property-in-hyderabad-city?page=7\n",
      "https://www.makaan.com/hyderabad-residential-property/buy-property-in-hyderabad-city?page=8\n",
      "https://www.makaan.com/hyderabad-residential-property/buy-property-in-hyderabad-city?page=9\n",
      "https://www.makaan.com/hyderabad-residential-property/buy-property-in-hyderabad-city?page=10\n",
      "https://www.makaan.com/hyderabad-residential-property/buy-property-in-hyderabad-city?page=11\n",
      "https://www.makaan.com/hyderabad-residential-property/buy-property-in-hyderabad-city?page=12\n",
      "https://www.makaan.com/hyderabad-residential-property/buy-property-in-hyderabad-city?page=13\n",
      "https://www.makaan.com/hyderabad-residential-property/buy-property-in-hyderabad-city?page=14\n",
      "https://www.makaan.com/hyderabad-residential-property/buy-property-in-hyderabad-city?page=15\n",
      "https://www.makaan.com/hyderabad-residential-property/buy-property-in-hyderabad-city?page=16\n",
      "https://www.makaan.com/hyderabad-residential-property/buy-property-in-hyderabad-city?page=17\n",
      "https://www.makaan.com/hyderabad-residential-property/buy-property-in-hyderabad-city?page=18\n",
      "https://www.makaan.com/hyderabad-residential-property/buy-property-in-hyderabad-city?page=19\n",
      "https://www.makaan.com/hyderabad-residential-property/buy-property-in-hyderabad-city?page=20\n"
     ]
    }
   ],
   "source": [
    "base_url=\"https://www.makaan.com/hyderabad-residential-property/buy-property-in-hyderabad-city?page=\"\n",
    "for i in range(21):\n",
    "    print(base_url+str(i))"
   ]
  },
  {
   "cell_type": "code",
   "execution_count": 28,
   "id": "7a2587ae",
   "metadata": {},
   "outputs": [],
   "source": [
    "import matplotlib.pyplot as plt"
   ]
  },
  {
   "cell_type": "markdown",
   "id": "ed26e722",
   "metadata": {},
   "source": [
    "# Bar"
   ]
  },
  {
   "cell_type": "code",
   "execution_count": 35,
   "id": "8e93233a",
   "metadata": {},
   "outputs": [
    {
     "data": {
      "image/png": "[encoded data removed]",
      "text/plain": [
       "<Figure size 432x288 with 1 Axes>"
      ]
     },
     "metadata": {
      "needs_background": "light"
     },
     "output_type": "display_data"
    }
   ],
   "source": [
    "data[\"Location\"].value_counts().plot(kind=\"bar\")\n",
    "plt.title(\"Number of Apartments by Location\")\n",
    "plt.xlabel(\"Location\")\n",
    "plt.ylabel(\"Count\")\n",
    "plt.show()\n"
   ]
  },
  {
   "cell_type": "markdown",
   "id": "4f95d4c6",
   "metadata": {},
   "source": [
    "# Pie"
   ]
  },
  {
   "cell_type": "code",
   "execution_count": 33,
   "id": "a85b6695",
   "metadata": {},
   "outputs": [
    {
     "data": {
      "image/png": "[encoded data removed]",
      "text/plain": [
       "<Figure size 432x288 with 1 Axes>"
      ]
     },
     "metadata": {},
     "output_type": "display_data"
    }
   ],
   "source": [
    "data[\"Status\"].value_counts().plot(kind=\"pie\")\n",
    "plt.title(\"Status\")\n",
    "plt.show()"
   ]
  },
  {
   "cell_type": "markdown",
   "id": "e37d4a42",
   "metadata": {},
   "source": [
    "# Line"
   ]
  },
  {
   "cell_type": "code",
   "execution_count": 37,
   "id": "d6530f3f",
   "metadata": {},
   "outputs": [
    {
     "data": {
      "image/png": "[encoded data removed]",
      "text/plain": [
       "<Figure size 432x288 with 1 Axes>"
      ]
     },
     "metadata": {
      "needs_background": "light"
     },
     "output_type": "display_data"
    }
   ],
   "source": [
    "data[\"Price\"].value_counts().sort_index().plot(kind=\"line\")\n",
    "plt.title(\"Price Distribution\")\n",
    "plt.xlabel(\"Price (in Crores)\")\n",
    "plt.ylabel(\"Count\")\n",
    "plt.show()"
   ]
  },
  {
   "cell_type": "code",
   "execution_count": null,
   "id": "674c92f7",
   "metadata": {},
   "outputs": [],
   "source": []
  }
 ],
 "metadata": {
  "kernelspec": {
   "display_name": "Python 3 (ipykernel)",
   "language": "python",
   "name": "python3"
  },
  "language_info": {
   "codemirror_mode": {
    "name": "ipython",
    "version": 3
   },
   "file_extension": ".py",
   "mimetype": "text/x-python",
   "name": "python",
   "nbconvert_exporter": "python",
   "pygments_lexer": "ipython3",
   "version": "3.9.12"
  }
 },
 "nbformat": 4,
 "nbformat_minor": 5
}
